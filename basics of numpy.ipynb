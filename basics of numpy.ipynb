{
 "cells": [
  {
   "cell_type": "code",
   "execution_count": 1,
   "id": "93381bfd",
   "metadata": {},
   "outputs": [],
   "source": [
    "import numpy as np"
   ]
  },
  {
   "cell_type": "code",
   "execution_count": 2,
   "id": "aec89791",
   "metadata": {},
   "outputs": [],
   "source": [
    "a=np.array([1,2,3])"
   ]
  },
  {
   "cell_type": "code",
   "execution_count": 3,
   "id": "5108e090",
   "metadata": {
    "scrolled": true
   },
   "outputs": [
    {
     "data": {
      "text/plain": [
       "array([1, 2, 3])"
      ]
     },
     "execution_count": 3,
     "metadata": {},
     "output_type": "execute_result"
    }
   ],
   "source": [
    "a\n"
   ]
  },
  {
   "cell_type": "code",
   "execution_count": 4,
   "id": "c274ef97",
   "metadata": {},
   "outputs": [
    {
     "data": {
      "text/plain": [
       "[1, 2, 3]"
      ]
     },
     "execution_count": 4,
     "metadata": {},
     "output_type": "execute_result"
    }
   ],
   "source": [
    "a.tolist()#change numpy array to list"
   ]
  },
  {
   "cell_type": "code",
   "execution_count": 5,
   "id": "3be99811",
   "metadata": {},
   "outputs": [
    {
     "data": {
      "text/plain": [
       "(3,)"
      ]
     },
     "execution_count": 5,
     "metadata": {},
     "output_type": "execute_result"
    }
   ],
   "source": [
    "a.shape#get shape o the arrray "
   ]
  },
  {
   "cell_type": "code",
   "execution_count": 6,
   "id": "951611bf",
   "metadata": {},
   "outputs": [
    {
     "data": {
      "text/plain": [
       "1"
      ]
     },
     "execution_count": 6,
     "metadata": {},
     "output_type": "execute_result"
    }
   ],
   "source": [
    "a.ndim\n",
    "#get number of dimension of array"
   ]
  },
  {
   "cell_type": "code",
   "execution_count": 7,
   "id": "7a228770",
   "metadata": {},
   "outputs": [],
   "source": [
    "b=np.array([[1.0,2.0,3.0],[4.0,5.0,6.0]])"
   ]
  },
  {
   "cell_type": "code",
   "execution_count": 8,
   "id": "e7989cef",
   "metadata": {},
   "outputs": [
    {
     "data": {
      "text/plain": [
       "array([[1., 2., 3.],\n",
       "       [4., 5., 6.]])"
      ]
     },
     "execution_count": 8,
     "metadata": {},
     "output_type": "execute_result"
    }
   ],
   "source": [
    "b"
   ]
  },
  {
   "cell_type": "code",
   "execution_count": 9,
   "id": "49867205",
   "metadata": {},
   "outputs": [
    {
     "data": {
      "text/plain": [
       "(2, 3)"
      ]
     },
     "execution_count": 9,
     "metadata": {},
     "output_type": "execute_result"
    }
   ],
   "source": [
    "b.shape"
   ]
  },
  {
   "cell_type": "code",
   "execution_count": 10,
   "id": "468a29c9",
   "metadata": {},
   "outputs": [
    {
     "data": {
      "text/plain": [
       "2"
      ]
     },
     "execution_count": 10,
     "metadata": {},
     "output_type": "execute_result"
    }
   ],
   "source": [
    "b.ndim"
   ]
  },
  {
   "cell_type": "code",
   "execution_count": 11,
   "id": "94d00646",
   "metadata": {},
   "outputs": [
    {
     "name": "stdout",
     "output_type": "stream",
     "text": [
      "[[1. 2. 3.]\n",
      " [4. 5. 6.]]\n"
     ]
    }
   ],
   "source": [
    "print(b)"
   ]
  },
  {
   "cell_type": "code",
   "execution_count": 12,
   "id": "41cb6fc1",
   "metadata": {},
   "outputs": [
    {
     "name": "stdout",
     "output_type": "stream",
     "text": [
      "[1 2 3]\n"
     ]
    }
   ],
   "source": [
    "print(a)"
   ]
  },
  {
   "cell_type": "code",
   "execution_count": 13,
   "id": "a9aa3490",
   "metadata": {},
   "outputs": [
    {
     "data": {
      "text/plain": [
       "dtype('int32')"
      ]
     },
     "execution_count": 13,
     "metadata": {},
     "output_type": "execute_result"
    }
   ],
   "source": [
    "#get type  of numpy array\n",
    "a.dtype"
   ]
  },
  {
   "cell_type": "code",
   "execution_count": 14,
   "id": "fed73241",
   "metadata": {},
   "outputs": [],
   "source": [
    "a=np.array([1,2,3],dtype='int16')"
   ]
  },
  {
   "cell_type": "code",
   "execution_count": 15,
   "id": "fac197b1",
   "metadata": {},
   "outputs": [
    {
     "data": {
      "text/plain": [
       "dtype('int16')"
      ]
     },
     "execution_count": 15,
     "metadata": {},
     "output_type": "execute_result"
    }
   ],
   "source": [
    "a.dtype#now it takes lesser valuues"
   ]
  },
  {
   "cell_type": "code",
   "execution_count": 16,
   "id": "57765e47",
   "metadata": {},
   "outputs": [
    {
     "data": {
      "text/plain": [
       "2"
      ]
     },
     "execution_count": 16,
     "metadata": {},
     "output_type": "execute_result"
    }
   ],
   "source": [
    "a.itemsize #get the size of item stored in the array"
   ]
  },
  {
   "cell_type": "code",
   "execution_count": 17,
   "id": "94b29b1b",
   "metadata": {},
   "outputs": [
    {
     "data": {
      "text/plain": [
       "3"
      ]
     },
     "execution_count": 17,
     "metadata": {},
     "output_type": "execute_result"
    }
   ],
   "source": [
    "#get the number of elements in the array\n",
    "a.size"
   ]
  },
  {
   "cell_type": "code",
   "execution_count": 18,
   "id": "d0e28d38",
   "metadata": {},
   "outputs": [
    {
     "data": {
      "text/plain": [
       "6"
      ]
     },
     "execution_count": 18,
     "metadata": {},
     "output_type": "execute_result"
    }
   ],
   "source": [
    "#get the size of element in the array\n",
    "a.size*a.itemsize"
   ]
  },
  {
   "cell_type": "code",
   "execution_count": 19,
   "id": "f8fcf778",
   "metadata": {},
   "outputs": [
    {
     "data": {
      "text/plain": [
       "6"
      ]
     },
     "execution_count": 19,
     "metadata": {},
     "output_type": "execute_result"
    }
   ],
   "source": [
    "#or you van directly use\n",
    "a.nbytes"
   ]
  },
  {
   "cell_type": "markdown",
   "id": "b9500560",
   "metadata": {},
   "source": [
    "# ACCESSING AND CAHNGING ELEMENTS,ROWS,COLUMNS ETC."
   ]
  },
  {
   "cell_type": "code",
   "execution_count": 20,
   "id": "0d3767a5",
   "metadata": {},
   "outputs": [],
   "source": [
    "c=np.array([[1,2,3,4,5,6,7],[45,21,35,6,4,8,56]])"
   ]
  },
  {
   "cell_type": "code",
   "execution_count": 21,
   "id": "c6e58661",
   "metadata": {},
   "outputs": [
    {
     "name": "stdout",
     "output_type": "stream",
     "text": [
      "[[ 1  2  3  4  5  6  7]\n",
      " [45 21 35  6  4  8 56]]\n"
     ]
    }
   ],
   "source": [
    "print(c)"
   ]
  },
  {
   "cell_type": "code",
   "execution_count": 22,
   "id": "55233bd5",
   "metadata": {},
   "outputs": [
    {
     "data": {
      "text/plain": [
       "8"
      ]
     },
     "execution_count": 22,
     "metadata": {},
     "output_type": "execute_result"
    }
   ],
   "source": [
    "#get specific element by[r,c]\n",
    "c[1,5]"
   ]
  },
  {
   "cell_type": "code",
   "execution_count": 23,
   "id": "29ae5e03",
   "metadata": {},
   "outputs": [
    {
     "data": {
      "text/plain": [
       "8"
      ]
     },
     "execution_count": 23,
     "metadata": {},
     "output_type": "execute_result"
    }
   ],
   "source": [
    "#or \n",
    "c[1,-2]"
   ]
  },
  {
   "cell_type": "code",
   "execution_count": 24,
   "id": "83ebc51e",
   "metadata": {},
   "outputs": [
    {
     "data": {
      "text/plain": [
       "array([[ 1,  2,  3,  4,  5,  6,  7],\n",
       "       [45, 21, 35,  6,  4,  8, 56]])"
      ]
     },
     "execution_count": 24,
     "metadata": {},
     "output_type": "execute_result"
    }
   ],
   "source": [
    "c"
   ]
  },
  {
   "cell_type": "code",
   "execution_count": 25,
   "id": "9d720ba1",
   "metadata": {},
   "outputs": [
    {
     "data": {
      "text/plain": [
       "array([1, 2, 3, 4, 5, 6, 7])"
      ]
     },
     "execution_count": 25,
     "metadata": {},
     "output_type": "execute_result"
    }
   ],
   "source": [
    "#get a specific row\n",
    "c[0,:]"
   ]
  },
  {
   "cell_type": "code",
   "execution_count": 26,
   "id": "0ee4c575",
   "metadata": {},
   "outputs": [
    {
     "data": {
      "text/plain": [
       "array([ 3, 35])"
      ]
     },
     "execution_count": 26,
     "metadata": {},
     "output_type": "execute_result"
    }
   ],
   "source": [
    "#get a specific column\n",
    "c[:,2]"
   ]
  },
  {
   "cell_type": "code",
   "execution_count": 27,
   "id": "b82c91a7",
   "metadata": {},
   "outputs": [
    {
     "data": {
      "text/plain": [
       "array([1, 3, 5, 7])"
      ]
     },
     "execution_count": 27,
     "metadata": {},
     "output_type": "execute_result"
    }
   ],
   "source": [
    "#gettting liittle more extra  [startindex:finalindex:steps size]\n",
    "c[0,0:7:2]"
   ]
  },
  {
   "cell_type": "markdown",
   "id": "c9f36764",
   "metadata": {},
   "source": [
    "*3d example"
   ]
  },
  {
   "cell_type": "code",
   "execution_count": 28,
   "id": "50faf5f4",
   "metadata": {},
   "outputs": [],
   "source": [
    "a=np.array([[[1,2],[3,4]],[[5,6],[7,8]]])"
   ]
  },
  {
   "cell_type": "code",
   "execution_count": 29,
   "id": "03ca6e3b",
   "metadata": {},
   "outputs": [
    {
     "name": "stdout",
     "output_type": "stream",
     "text": [
      "[[[1 2]\n",
      "  [3 4]]\n",
      "\n",
      " [[5 6]\n",
      "  [7 8]]]\n"
     ]
    }
   ],
   "source": [
    "print(a)"
   ]
  },
  {
   "cell_type": "code",
   "execution_count": 30,
   "id": "cb5833d7",
   "metadata": {},
   "outputs": [
    {
     "data": {
      "text/plain": [
       "4"
      ]
     },
     "execution_count": 30,
     "metadata": {},
     "output_type": "execute_result"
    }
   ],
   "source": [
    "#now i want acces 4\n",
    "a[0,1,1]"
   ]
  },
  {
   "cell_type": "code",
   "execution_count": 31,
   "id": "ca05655e",
   "metadata": {},
   "outputs": [
    {
     "data": {
      "text/plain": [
       "array([[0., 0., 0.],\n",
       "       [0., 0., 0.],\n",
       "       [0., 0., 0.]])"
      ]
     },
     "execution_count": 31,
     "metadata": {},
     "output_type": "execute_result"
    }
   ],
   "source": [
    "np.zeros((3,3))"
   ]
  },
  {
   "cell_type": "code",
   "execution_count": 32,
   "id": "8ea84433",
   "metadata": {},
   "outputs": [
    {
     "data": {
      "text/plain": [
       "array([[1., 0., 0.],\n",
       "       [0., 1., 0.],\n",
       "       [0., 0., 1.]])"
      ]
     },
     "execution_count": 32,
     "metadata": {},
     "output_type": "execute_result"
    }
   ],
   "source": [
    "np.identity(3)"
   ]
  },
  {
   "cell_type": "code",
   "execution_count": 33,
   "id": "b96f9613",
   "metadata": {},
   "outputs": [
    {
     "data": {
      "text/plain": [
       "array([[1., 0., 0.],\n",
       "       [0., 1., 0.],\n",
       "       [0., 0., 1.]])"
      ]
     },
     "execution_count": 33,
     "metadata": {},
     "output_type": "execute_result"
    }
   ],
   "source": [
    "np.empty((3,3))"
   ]
  },
  {
   "cell_type": "code",
   "execution_count": 34,
   "id": "fdb879f0",
   "metadata": {},
   "outputs": [
    {
     "data": {
      "text/plain": [
       "array([[[1., 1.],\n",
       "        [1., 1.],\n",
       "        [1., 1.],\n",
       "        [1., 1.]],\n",
       "\n",
       "       [[1., 1.],\n",
       "        [1., 1.],\n",
       "        [1., 1.],\n",
       "        [1., 1.]],\n",
       "\n",
       "       [[1., 1.],\n",
       "        [1., 1.],\n",
       "        [1., 1.],\n",
       "        [1., 1.]],\n",
       "\n",
       "       [[1., 1.],\n",
       "        [1., 1.],\n",
       "        [1., 1.],\n",
       "        [1., 1.]]])"
      ]
     },
     "execution_count": 34,
     "metadata": {},
     "output_type": "execute_result"
    }
   ],
   "source": [
    "np.ones((4,4,2))"
   ]
  },
  {
   "cell_type": "code",
   "execution_count": 35,
   "id": "4b69ff1c",
   "metadata": {},
   "outputs": [
    {
     "data": {
      "text/plain": [
       "array([[56, 56, 56],\n",
       "       [56, 56, 56],\n",
       "       [56, 56, 56]])"
      ]
     },
     "execution_count": 35,
     "metadata": {},
     "output_type": "execute_result"
    }
   ],
   "source": [
    "np.full((3,3),56)#desired value matrix"
   ]
  },
  {
   "cell_type": "code",
   "execution_count": 36,
   "id": "24f6303a",
   "metadata": {},
   "outputs": [],
   "source": [
    "#we can generate any array of type of different values with some constant set of values\n",
    "a=np.array([[1,2,3,4],[5,6,7,8]])"
   ]
  },
  {
   "cell_type": "code",
   "execution_count": 37,
   "id": "8616d984",
   "metadata": {},
   "outputs": [
    {
     "name": "stdout",
     "output_type": "stream",
     "text": [
      "[[1 2 3 4]\n",
      " [5 6 7 8]]\n"
     ]
    }
   ],
   "source": [
    "print(a)"
   ]
  },
  {
   "cell_type": "code",
   "execution_count": 38,
   "id": "e0a695d5",
   "metadata": {},
   "outputs": [
    {
     "data": {
      "text/plain": [
       "array([[27, 27, 27, 27],\n",
       "       [27, 27, 27, 27]])"
      ]
     },
     "execution_count": 38,
     "metadata": {},
     "output_type": "execute_result"
    }
   ],
   "source": [
    "np.full_like(a,27)#like thhiss"
   ]
  },
  {
   "cell_type": "code",
   "execution_count": 39,
   "id": "1e31e1f1",
   "metadata": {},
   "outputs": [
    {
     "data": {
      "text/plain": [
       "array([[27, 27, 27, 27],\n",
       "       [27, 27, 27, 27]])"
      ]
     },
     "execution_count": 39,
     "metadata": {},
     "output_type": "execute_result"
    }
   ],
   "source": [
    "np.full(a.shape,27)#2nd way"
   ]
  },
  {
   "cell_type": "code",
   "execution_count": 40,
   "id": "c0062a06",
   "metadata": {},
   "outputs": [
    {
     "data": {
      "text/plain": [
       "array([[0.86016694, 0.30009945, 0.87538812, 0.6635487 ],\n",
       "       [0.34633388, 0.97106213, 0.91555891, 0.30341306],\n",
       "       [0.54400431, 0.76913518, 0.17468965, 0.48373122],\n",
       "       [0.67778343, 0.26853801, 0.795498  , 0.42832274]])"
      ]
     },
     "execution_count": 40,
     "metadata": {},
     "output_type": "execute_result"
    }
   ],
   "source": [
    "#array of random decimal numbers\n",
    "np.random.rand(4,4)"
   ]
  },
  {
   "cell_type": "code",
   "execution_count": 41,
   "id": "75c71f14",
   "metadata": {},
   "outputs": [
    {
     "data": {
      "text/plain": [
       "(2, 4)"
      ]
     },
     "execution_count": 41,
     "metadata": {},
     "output_type": "execute_result"
    }
   ],
   "source": [
    "a.shape"
   ]
  },
  {
   "cell_type": "code",
   "execution_count": 42,
   "id": "338e8581",
   "metadata": {},
   "outputs": [
    {
     "data": {
      "text/plain": [
       "array([[0.91871189, 0.83693226, 0.35300278, 0.64355939],\n",
       "       [0.46445553, 0.36562645, 0.48097109, 0.49479296]])"
      ]
     },
     "execution_count": 42,
     "metadata": {},
     "output_type": "execute_result"
    }
   ],
   "source": [
    "#if we want to generate array of like different array\n",
    "np.random.random_sample(a.shape)"
   ]
  },
  {
   "cell_type": "code",
   "execution_count": 43,
   "id": "5daa271c",
   "metadata": {},
   "outputs": [
    {
     "data": {
      "text/plain": [
       "array([[0, 2, 2],\n",
       "       [1, 0, 2],\n",
       "       [1, 0, 0]])"
      ]
     },
     "execution_count": 43,
     "metadata": {},
     "output_type": "execute_result"
    }
   ],
   "source": [
    "#if we want to generate array of some random integer values\n",
    "np.random.randint(3,size=(3,3))#first one attribute is for values under which randomm generates values basicallly 0 to 3-1"
   ]
  },
  {
   "cell_type": "code",
   "execution_count": 44,
   "id": "4eb223dd",
   "metadata": {},
   "outputs": [
    {
     "data": {
      "text/plain": [
       "array([[-1,  0, -3],\n",
       "       [ 1,  4,  1],\n",
       "       [ 2, -1, -2]])"
      ]
     },
     "execution_count": 44,
     "metadata": {},
     "output_type": "execute_result"
    }
   ],
   "source": [
    "np.random.randint(-5,5,size=(3,3))#now we give the range of values between which it generates random values \n",
    "#initial one is exclusive"
   ]
  },
  {
   "cell_type": "code",
   "execution_count": 45,
   "id": "f02d388f",
   "metadata": {},
   "outputs": [
    {
     "name": "stdout",
     "output_type": "stream",
     "text": [
      "[[1 2 3]\n",
      " [1 2 3]\n",
      " [1 2 3]]\n"
     ]
    }
   ],
   "source": [
    "# we can repeate a single dimensional to build another dimensional array\n",
    "a=np.array([[1,2,3]])\n",
    "print(np.repeat(a,3,axis=0))"
   ]
  },
  {
   "cell_type": "code",
   "execution_count": 46,
   "id": "4c368a62",
   "metadata": {},
   "outputs": [
    {
     "data": {
      "text/plain": [
       "array([[1, 1, 1, 1, 1, 1, 2, 2, 2, 2, 2, 2, 3, 3, 3, 3, 3, 3]])"
      ]
     },
     "execution_count": 46,
     "metadata": {},
     "output_type": "execute_result"
    }
   ],
   "source": [
    "np.repeat(a,6,axis=1)"
   ]
  },
  {
   "cell_type": "code",
   "execution_count": 47,
   "id": "4f1006d4",
   "metadata": {},
   "outputs": [
    {
     "data": {
      "text/plain": [
       "array([[1, 2, 3],\n",
       "       [1, 2, 3],\n",
       "       [1, 2, 3],\n",
       "       [1, 2, 3],\n",
       "       [1, 2, 3],\n",
       "       [1, 2, 3]])"
      ]
     },
     "execution_count": 47,
     "metadata": {},
     "output_type": "execute_result"
    }
   ],
   "source": [
    "np.repeat(a,6,axis=0)"
   ]
  },
  {
   "cell_type": "code",
   "execution_count": 48,
   "id": "e8b06bba",
   "metadata": {},
   "outputs": [],
   "source": [
    "ar=np.zeros((5,5))"
   ]
  },
  {
   "cell_type": "code",
   "execution_count": 49,
   "id": "823b0f85",
   "metadata": {},
   "outputs": [
    {
     "name": "stdout",
     "output_type": "stream",
     "text": [
      "[[0. 0. 0. 0. 0.]\n",
      " [0. 0. 0. 0. 0.]\n",
      " [0. 0. 0. 0. 0.]\n",
      " [0. 0. 0. 0. 0.]\n",
      " [0. 0. 0. 0. 0.]]\n"
     ]
    }
   ],
   "source": [
    "print(ar)"
   ]
  },
  {
   "cell_type": "code",
   "execution_count": 50,
   "id": "59b544c4",
   "metadata": {},
   "outputs": [],
   "source": [
    "ar[0]=1"
   ]
  },
  {
   "cell_type": "code",
   "execution_count": 51,
   "id": "94a31131",
   "metadata": {},
   "outputs": [
    {
     "data": {
      "text/plain": [
       "array([[1., 1., 1., 1., 1.],\n",
       "       [0., 0., 0., 0., 0.],\n",
       "       [0., 0., 0., 0., 0.],\n",
       "       [0., 0., 0., 0., 0.],\n",
       "       [0., 0., 0., 0., 0.]])"
      ]
     },
     "execution_count": 51,
     "metadata": {},
     "output_type": "execute_result"
    }
   ],
   "source": [
    "ar"
   ]
  },
  {
   "cell_type": "code",
   "execution_count": 52,
   "id": "b824a91e",
   "metadata": {},
   "outputs": [],
   "source": [
    "ar[-1]=1"
   ]
  },
  {
   "cell_type": "code",
   "execution_count": 53,
   "id": "5b993aa6",
   "metadata": {},
   "outputs": [
    {
     "data": {
      "text/plain": [
       "array([[1., 1., 1., 1., 1.],\n",
       "       [0., 0., 0., 0., 0.],\n",
       "       [0., 0., 0., 0., 0.],\n",
       "       [0., 0., 0., 0., 0.],\n",
       "       [1., 1., 1., 1., 1.]])"
      ]
     },
     "execution_count": 53,
     "metadata": {},
     "output_type": "execute_result"
    }
   ],
   "source": [
    "ar"
   ]
  },
  {
   "cell_type": "code",
   "execution_count": 54,
   "id": "6d2f4528",
   "metadata": {},
   "outputs": [],
   "source": [
    "ar[:,0]=1"
   ]
  },
  {
   "cell_type": "code",
   "execution_count": 55,
   "id": "667cad7c",
   "metadata": {},
   "outputs": [],
   "source": [
    "ar[:,-1]=1"
   ]
  },
  {
   "cell_type": "code",
   "execution_count": 56,
   "id": "ceb5738b",
   "metadata": {},
   "outputs": [
    {
     "data": {
      "text/plain": [
       "array([[1., 1., 1., 1., 1.],\n",
       "       [1., 0., 0., 0., 1.],\n",
       "       [1., 0., 0., 0., 1.],\n",
       "       [1., 0., 0., 0., 1.],\n",
       "       [1., 1., 1., 1., 1.]])"
      ]
     },
     "execution_count": 56,
     "metadata": {},
     "output_type": "execute_result"
    }
   ],
   "source": [
    "ar"
   ]
  },
  {
   "cell_type": "code",
   "execution_count": 57,
   "id": "0aa63094",
   "metadata": {},
   "outputs": [],
   "source": [
    "ar[2,2]=9.0\n"
   ]
  },
  {
   "cell_type": "code",
   "execution_count": 58,
   "id": "bafdda92",
   "metadata": {},
   "outputs": [
    {
     "data": {
      "text/plain": [
       "array([[1., 1., 1., 1., 1.],\n",
       "       [1., 0., 0., 0., 1.],\n",
       "       [1., 0., 9., 0., 1.],\n",
       "       [1., 0., 0., 0., 1.],\n",
       "       [1., 1., 1., 1., 1.]])"
      ]
     },
     "execution_count": 58,
     "metadata": {},
     "output_type": "execute_result"
    }
   ],
   "source": [
    "ar"
   ]
  },
  {
   "cell_type": "code",
   "execution_count": 59,
   "id": "877b8f22",
   "metadata": {},
   "outputs": [
    {
     "name": "stdout",
     "output_type": "stream",
     "text": [
      "[[1. 1. 1. 1. 1.]\n",
      " [1. 0. 0. 0. 1.]\n",
      " [1. 0. 9. 0. 1.]\n",
      " [1. 0. 0. 0. 1.]\n",
      " [1. 1. 1. 1. 1.]]\n"
     ]
    }
   ],
   "source": [
    "#2nd method of making the above array\n",
    "output=np.ones((5,5))\n",
    "z=np.zeros((3,3))\n",
    "z[1,1]=9\n",
    "output[1:-1,1:-1]=z\n",
    "print(output)"
   ]
  },
  {
   "cell_type": "markdown",
   "id": "58f0ba72",
   "metadata": {},
   "source": [
    "### BE CAREFUL WHILE COPYING ARRAYS"
   ]
  },
  {
   "cell_type": "code",
   "execution_count": 60,
   "id": "e78affa4",
   "metadata": {},
   "outputs": [
    {
     "name": "stdout",
     "output_type": "stream",
     "text": [
      "[1 2 3]\n"
     ]
    }
   ],
   "source": [
    "a=np.array([1,2,3])\n",
    "b=a\n",
    "print(b)"
   ]
  },
  {
   "cell_type": "code",
   "execution_count": 61,
   "id": "9d34c9ea",
   "metadata": {},
   "outputs": [],
   "source": [
    "b[0]=100"
   ]
  },
  {
   "cell_type": "code",
   "execution_count": 62,
   "id": "993c0c94",
   "metadata": {},
   "outputs": [
    {
     "name": "stdout",
     "output_type": "stream",
     "text": [
      "[100   2   3]\n"
     ]
    }
   ],
   "source": [
    "print(b)"
   ]
  },
  {
   "cell_type": "code",
   "execution_count": 63,
   "id": "b0deffc4",
   "metadata": {},
   "outputs": [
    {
     "name": "stdout",
     "output_type": "stream",
     "text": [
      "[100   2   3]\n"
     ]
    }
   ],
   "source": [
    "print(a)#here we came into problem as u can see while changing value to b value of a also changes"
   ]
  },
  {
   "cell_type": "markdown",
   "id": "0ae48c97",
   "metadata": {},
   "source": [
    "### in the above as a and b pointing to same object any variation happens at object thats why it chnages the both values\n"
   ]
  },
  {
   "cell_type": "code",
   "execution_count": 64,
   "id": "951dc620",
   "metadata": {},
   "outputs": [],
   "source": [
    "a=np.array([1,2,3])"
   ]
  },
  {
   "cell_type": "code",
   "execution_count": 65,
   "id": "67e30423",
   "metadata": {},
   "outputs": [
    {
     "data": {
      "text/plain": [
       "array([1, 2, 3])"
      ]
     },
     "execution_count": 65,
     "metadata": {},
     "output_type": "execute_result"
    }
   ],
   "source": [
    "a"
   ]
  },
  {
   "cell_type": "code",
   "execution_count": 66,
   "id": "68d03316",
   "metadata": {},
   "outputs": [],
   "source": [
    "b=a.copy()#if we use the copy it helps us from above distruction"
   ]
  },
  {
   "cell_type": "code",
   "execution_count": 67,
   "id": "138496a9",
   "metadata": {},
   "outputs": [
    {
     "data": {
      "text/plain": [
       "array([1, 2, 3])"
      ]
     },
     "execution_count": 67,
     "metadata": {},
     "output_type": "execute_result"
    }
   ],
   "source": [
    "b"
   ]
  },
  {
   "cell_type": "code",
   "execution_count": 68,
   "id": "b0fb5c1d",
   "metadata": {},
   "outputs": [],
   "source": [
    "b[0]=100"
   ]
  },
  {
   "cell_type": "code",
   "execution_count": 69,
   "id": "0ba4bcac",
   "metadata": {},
   "outputs": [
    {
     "data": {
      "text/plain": [
       "array([100,   2,   3])"
      ]
     },
     "execution_count": 69,
     "metadata": {},
     "output_type": "execute_result"
    }
   ],
   "source": [
    "b"
   ]
  },
  {
   "cell_type": "code",
   "execution_count": 70,
   "id": "e53b42a8",
   "metadata": {},
   "outputs": [
    {
     "data": {
      "text/plain": [
       "array([1, 2, 3])"
      ]
     },
     "execution_count": 70,
     "metadata": {},
     "output_type": "execute_result"
    }
   ],
   "source": [
    "a"
   ]
  },
  {
   "cell_type": "markdown",
   "id": "ee993ad6",
   "metadata": {},
   "source": [
    "# mathematics"
   ]
  },
  {
   "cell_type": "code",
   "execution_count": 71,
   "id": "5e70c328",
   "metadata": {},
   "outputs": [],
   "source": [
    "a=np.array([1,2,3,4])"
   ]
  },
  {
   "cell_type": "code",
   "execution_count": 72,
   "id": "82b8af85",
   "metadata": {},
   "outputs": [
    {
     "data": {
      "text/plain": [
       "array([1, 2, 3, 4])"
      ]
     },
     "execution_count": 72,
     "metadata": {},
     "output_type": "execute_result"
    }
   ],
   "source": [
    "a"
   ]
  },
  {
   "cell_type": "code",
   "execution_count": 73,
   "id": "32796433",
   "metadata": {},
   "outputs": [
    {
     "data": {
      "text/plain": [
       "array([3, 4, 5, 6])"
      ]
     },
     "execution_count": 73,
     "metadata": {},
     "output_type": "execute_result"
    }
   ],
   "source": [
    "a+2"
   ]
  },
  {
   "cell_type": "code",
   "execution_count": 74,
   "id": "cf1302e5",
   "metadata": {},
   "outputs": [
    {
     "data": {
      "text/plain": [
       "array([-1,  0,  1,  2])"
      ]
     },
     "execution_count": 74,
     "metadata": {},
     "output_type": "execute_result"
    }
   ],
   "source": [
    "a-2"
   ]
  },
  {
   "cell_type": "code",
   "execution_count": 75,
   "id": "946d9be2",
   "metadata": {},
   "outputs": [
    {
     "data": {
      "text/plain": [
       "array([2, 4, 6, 8])"
      ]
     },
     "execution_count": 75,
     "metadata": {},
     "output_type": "execute_result"
    }
   ],
   "source": [
    "a*2"
   ]
  },
  {
   "cell_type": "code",
   "execution_count": 76,
   "id": "6f475bd7",
   "metadata": {},
   "outputs": [
    {
     "data": {
      "text/plain": [
       "array([0.5, 1. , 1.5, 2. ])"
      ]
     },
     "execution_count": 76,
     "metadata": {},
     "output_type": "execute_result"
    }
   ],
   "source": [
    "a/2\n"
   ]
  },
  {
   "cell_type": "code",
   "execution_count": 77,
   "id": "ae3a84cd",
   "metadata": {},
   "outputs": [],
   "source": [
    "b=np.array([1,2,0,1])"
   ]
  },
  {
   "cell_type": "code",
   "execution_count": 78,
   "id": "7eef204e",
   "metadata": {},
   "outputs": [
    {
     "data": {
      "text/plain": [
       "array([2, 4, 3, 5])"
      ]
     },
     "execution_count": 78,
     "metadata": {},
     "output_type": "execute_result"
    }
   ],
   "source": [
    "a+b"
   ]
  },
  {
   "cell_type": "code",
   "execution_count": 79,
   "id": "cbf8c3fc",
   "metadata": {},
   "outputs": [
    {
     "data": {
      "text/plain": [
       "array([ 1,  4,  9, 16], dtype=int32)"
      ]
     },
     "execution_count": 79,
     "metadata": {},
     "output_type": "execute_result"
    }
   ],
   "source": [
    "a **2"
   ]
  },
  {
   "cell_type": "code",
   "execution_count": 80,
   "id": "5d2ff842",
   "metadata": {},
   "outputs": [
    {
     "data": {
      "text/plain": [
       "array([ 0.84147098,  0.90929743,  0.14112001, -0.7568025 ])"
      ]
     },
     "execution_count": 80,
     "metadata": {},
     "output_type": "execute_result"
    }
   ],
   "source": [
    "#take the sin of all values\n",
    "np.sin(a)"
   ]
  },
  {
   "cell_type": "code",
   "execution_count": 81,
   "id": "9146ae8b",
   "metadata": {},
   "outputs": [
    {
     "data": {
      "text/plain": [
       "array([ 0.54030231, -0.41614684, -0.9899925 , -0.65364362])"
      ]
     },
     "execution_count": 81,
     "metadata": {},
     "output_type": "execute_result"
    }
   ],
   "source": [
    "np.cos(a)"
   ]
  },
  {
   "cell_type": "markdown",
   "id": "12a3e706",
   "metadata": {},
   "source": [
    "### LINEAR ALGEBRA\n"
   ]
  },
  {
   "cell_type": "code",
   "execution_count": 82,
   "id": "be020b3a",
   "metadata": {},
   "outputs": [
    {
     "data": {
      "text/plain": [
       "array([[15., 15.],\n",
       "       [15., 15.],\n",
       "       [15., 15.]])"
      ]
     },
     "execution_count": 82,
     "metadata": {},
     "output_type": "execute_result"
    }
   ],
   "source": [
    "a=np.ones((3,3))\n",
    "b=np.full((3,2),5)\n",
    "a.dot(b)"
   ]
  },
  {
   "cell_type": "code",
   "execution_count": 83,
   "id": "a34462f6",
   "metadata": {},
   "outputs": [
    {
     "data": {
      "text/plain": [
       "array([[15., 15.],\n",
       "       [15., 15.],\n",
       "       [15., 15.]])"
      ]
     },
     "execution_count": 83,
     "metadata": {},
     "output_type": "execute_result"
    }
   ],
   "source": [
    "np.matmul(a,b) #another way"
   ]
  },
  {
   "cell_type": "code",
   "execution_count": 84,
   "id": "158fcf71",
   "metadata": {},
   "outputs": [
    {
     "data": {
      "text/plain": [
       "1.0"
      ]
     },
     "execution_count": 84,
     "metadata": {},
     "output_type": "execute_result"
    }
   ],
   "source": [
    "#find the determinante of matrix\n",
    "c=np.identity(3)\n",
    "np.linalg.det(c)"
   ]
  },
  {
   "cell_type": "markdown",
   "id": "c63a5c12",
   "metadata": {},
   "source": [
    "### STATISTICS LIKE MEAN,MAX.ETC"
   ]
  },
  {
   "cell_type": "code",
   "execution_count": 85,
   "id": "98044255",
   "metadata": {},
   "outputs": [],
   "source": [
    "stats=np.array([[1,2,3],[4,5,6]])"
   ]
  },
  {
   "cell_type": "code",
   "execution_count": 86,
   "id": "bd2cd548",
   "metadata": {},
   "outputs": [
    {
     "data": {
      "text/plain": [
       "1"
      ]
     },
     "execution_count": 86,
     "metadata": {},
     "output_type": "execute_result"
    }
   ],
   "source": [
    "np.min(stats)"
   ]
  },
  {
   "cell_type": "code",
   "execution_count": 87,
   "id": "f35a23a7",
   "metadata": {},
   "outputs": [
    {
     "data": {
      "text/plain": [
       "6"
      ]
     },
     "execution_count": 87,
     "metadata": {},
     "output_type": "execute_result"
    }
   ],
   "source": [
    "np.max(stats)"
   ]
  },
  {
   "cell_type": "code",
   "execution_count": 88,
   "id": "2a98f4c1",
   "metadata": {},
   "outputs": [
    {
     "data": {
      "text/plain": [
       "array([[1, 2, 3],\n",
       "       [4, 5, 6]])"
      ]
     },
     "execution_count": 88,
     "metadata": {},
     "output_type": "execute_result"
    }
   ],
   "source": [
    "stats"
   ]
  },
  {
   "cell_type": "code",
   "execution_count": 89,
   "id": "ce10132b",
   "metadata": {},
   "outputs": [
    {
     "data": {
      "text/plain": [
       "array([1, 2, 3])"
      ]
     },
     "execution_count": 89,
     "metadata": {},
     "output_type": "execute_result"
    }
   ],
   "source": [
    "np.min(stats ,axis=0)"
   ]
  },
  {
   "cell_type": "code",
   "execution_count": 90,
   "id": "297eec24",
   "metadata": {},
   "outputs": [
    {
     "data": {
      "text/plain": [
       "array([1, 4])"
      ]
     },
     "execution_count": 90,
     "metadata": {},
     "output_type": "execute_result"
    }
   ],
   "source": [
    "np.min(stats,axis=1)"
   ]
  },
  {
   "cell_type": "code",
   "execution_count": 91,
   "id": "c5228679",
   "metadata": {},
   "outputs": [
    {
     "data": {
      "text/plain": [
       "21"
      ]
     },
     "execution_count": 91,
     "metadata": {},
     "output_type": "execute_result"
    }
   ],
   "source": [
    "np.sum(stats)"
   ]
  },
  {
   "cell_type": "code",
   "execution_count": 92,
   "id": "5a8665a7",
   "metadata": {},
   "outputs": [
    {
     "data": {
      "text/plain": [
       "array([5, 7, 9])"
      ]
     },
     "execution_count": 92,
     "metadata": {},
     "output_type": "execute_result"
    }
   ],
   "source": [
    "np.sum(stats,axis=0)"
   ]
  },
  {
   "cell_type": "code",
   "execution_count": 93,
   "id": "1d914cd7",
   "metadata": {},
   "outputs": [
    {
     "data": {
      "text/plain": [
       "array([ 6, 15])"
      ]
     },
     "execution_count": 93,
     "metadata": {},
     "output_type": "execute_result"
    }
   ],
   "source": [
    "np.sum(stats,axis=1)"
   ]
  },
  {
   "cell_type": "markdown",
   "id": "1988be5a",
   "metadata": {},
   "source": [
    "### reorganizing arrays"
   ]
  },
  {
   "cell_type": "code",
   "execution_count": 94,
   "id": "78a37841",
   "metadata": {},
   "outputs": [],
   "source": [
    "before=np.array([[1,2,3,4],[5,6,7,8]])"
   ]
  },
  {
   "cell_type": "code",
   "execution_count": 95,
   "id": "13403ba9",
   "metadata": {},
   "outputs": [
    {
     "data": {
      "text/plain": [
       "(2, 4)"
      ]
     },
     "execution_count": 95,
     "metadata": {},
     "output_type": "execute_result"
    }
   ],
   "source": [
    "before.shape"
   ]
  },
  {
   "cell_type": "code",
   "execution_count": 96,
   "id": "22059d7d",
   "metadata": {},
   "outputs": [],
   "source": [
    "after=before.reshape((4,2))"
   ]
  },
  {
   "cell_type": "code",
   "execution_count": 97,
   "id": "aa25805b",
   "metadata": {},
   "outputs": [
    {
     "data": {
      "text/plain": [
       "(4, 2)"
      ]
     },
     "execution_count": 97,
     "metadata": {},
     "output_type": "execute_result"
    }
   ],
   "source": [
    "after.shape"
   ]
  },
  {
   "cell_type": "code",
   "execution_count": 98,
   "id": "29d0390c",
   "metadata": {},
   "outputs": [
    {
     "name": "stdout",
     "output_type": "stream",
     "text": [
      "[[1 2 3 4]\n",
      " [5 6 7 8]]\n"
     ]
    }
   ],
   "source": [
    "print(before)"
   ]
  },
  {
   "cell_type": "code",
   "execution_count": 99,
   "id": "7ef6305d",
   "metadata": {},
   "outputs": [
    {
     "name": "stdout",
     "output_type": "stream",
     "text": [
      "[[1 2]\n",
      " [3 4]\n",
      " [5 6]\n",
      " [7 8]]\n"
     ]
    }
   ],
   "source": [
    "print(after)"
   ]
  },
  {
   "cell_type": "code",
   "execution_count": 100,
   "id": "6c12af72",
   "metadata": {},
   "outputs": [
    {
     "data": {
      "text/plain": [
       "array([[[1, 2],\n",
       "        [3, 4]],\n",
       "\n",
       "       [[5, 6],\n",
       "        [7, 8]]])"
      ]
     },
     "execution_count": 100,
     "metadata": {},
     "output_type": "execute_result"
    }
   ],
   "source": [
    "before.reshape((2,2,2))"
   ]
  },
  {
   "cell_type": "code",
   "execution_count": 101,
   "id": "26d0dab0",
   "metadata": {},
   "outputs": [],
   "source": [
    "#vertically stacking arrays and matrices or vectors"
   ]
  },
  {
   "cell_type": "code",
   "execution_count": 102,
   "id": "aa2b9587",
   "metadata": {},
   "outputs": [],
   "source": [
    "v1=np.array([1,2,3,4])"
   ]
  },
  {
   "cell_type": "code",
   "execution_count": 103,
   "id": "6ae81ac5",
   "metadata": {},
   "outputs": [],
   "source": [
    "v2=np.array([5,6,7,8])"
   ]
  },
  {
   "cell_type": "code",
   "execution_count": 104,
   "id": "11ae67d1",
   "metadata": {},
   "outputs": [
    {
     "data": {
      "text/plain": [
       "array([[1, 2, 3, 4],\n",
       "       [5, 6, 7, 8],\n",
       "       [5, 6, 7, 8],\n",
       "       [5, 6, 7, 8],\n",
       "       [1, 2, 3, 4]])"
      ]
     },
     "execution_count": 104,
     "metadata": {},
     "output_type": "execute_result"
    }
   ],
   "source": [
    "np.vstack([v1,v2,v2,v2,v1])#we can stack as many times as we want"
   ]
  },
  {
   "cell_type": "code",
   "execution_count": 105,
   "id": "63df5af9",
   "metadata": {},
   "outputs": [
    {
     "data": {
      "text/plain": [
       "array([[1., 1., 1., 1., 0., 0.],\n",
       "       [1., 1., 1., 1., 0., 0.]])"
      ]
     },
     "execution_count": 105,
     "metadata": {},
     "output_type": "execute_result"
    }
   ],
   "source": [
    "#horizontal stack\n",
    "h1=np.ones((2,4))\n",
    "h2=np.zeros((2,2))\n",
    "np.hstack([h1,h2])#we can stack as many time as we want"
   ]
  },
  {
   "cell_type": "markdown",
   "id": "87fb94ad",
   "metadata": {},
   "source": [
    "## MISCELLANEOUS\n",
    "##### Load data from file"
   ]
  },
  {
   "cell_type": "code",
   "execution_count": 107,
   "id": "35139580",
   "metadata": {
    "scrolled": true
   },
   "outputs": [],
   "source": [
    "arr=np.genfromtxt('data/data.txt',delimiter=',',dtype='int')"
   ]
  },
  {
   "cell_type": "code",
   "execution_count": 108,
   "id": "372811fe",
   "metadata": {},
   "outputs": [
    {
     "data": {
      "text/plain": [
       "array([[1, 2, 3, 4, 5, 6, 7, 8],\n",
       "       [0, 0, 0, 0, 0, 0, 0, 0],\n",
       "       [1, 1, 1, 1, 1, 1, 1, 1],\n",
       "       [2, 2, 2, 2, 2, 2, 2, 2]])"
      ]
     },
     "execution_count": 108,
     "metadata": {},
     "output_type": "execute_result"
    }
   ],
   "source": [
    "arr\n"
   ]
  },
  {
   "cell_type": "markdown",
   "id": "e360fa5e",
   "metadata": {},
   "source": [
    "### Boolean masking and advance indexing"
   ]
  },
  {
   "cell_type": "code",
   "execution_count": 109,
   "id": "5c0a33d5",
   "metadata": {},
   "outputs": [
    {
     "data": {
      "text/plain": [
       "array([2, 3, 4, 5, 6, 7, 8, 2, 2, 2, 2, 2, 2, 2, 2])"
      ]
     },
     "execution_count": 109,
     "metadata": {},
     "output_type": "execute_result"
    }
   ],
   "source": [
    "arr[arr>1]"
   ]
  },
  {
   "cell_type": "code",
   "execution_count": 110,
   "id": "923ce370",
   "metadata": {},
   "outputs": [],
   "source": [
    "#we can index as a list in numpy"
   ]
  },
  {
   "cell_type": "code",
   "execution_count": 111,
   "id": "7a7c3632",
   "metadata": {},
   "outputs": [
    {
     "data": {
      "text/plain": [
       "array([2, 6, 9])"
      ]
     },
     "execution_count": 111,
     "metadata": {},
     "output_type": "execute_result"
    }
   ],
   "source": [
    "a=np.array([1,2,3,4,5,6,7,8,9,10])\n",
    "a[[1,5,8]]"
   ]
  },
  {
   "cell_type": "code",
   "execution_count": 112,
   "id": "d7154e86",
   "metadata": {},
   "outputs": [
    {
     "data": {
      "text/plain": [
       "array([False, False,  True,  True,  True,  True,  True,  True])"
      ]
     },
     "execution_count": 112,
     "metadata": {},
     "output_type": "execute_result"
    }
   ],
   "source": [
    "np.any(arr>2,axis=0)"
   ]
  },
  {
   "cell_type": "code",
   "execution_count": 113,
   "id": "df37919a",
   "metadata": {},
   "outputs": [
    {
     "data": {
      "text/plain": [
       "array([False, False, False, False])"
      ]
     },
     "execution_count": 113,
     "metadata": {},
     "output_type": "execute_result"
    }
   ],
   "source": [
    "np.all(arr>2,axis=1)"
   ]
  },
  {
   "cell_type": "code",
   "execution_count": 114,
   "id": "63654ed5",
   "metadata": {},
   "outputs": [
    {
     "data": {
      "text/plain": [
       "array([False, False, False, False, False, False, False, False])"
      ]
     },
     "execution_count": 114,
     "metadata": {},
     "output_type": "execute_result"
    }
   ],
   "source": [
    "np.all(arr>2,axis=0)"
   ]
  },
  {
   "cell_type": "code",
   "execution_count": 115,
   "id": "afa2e010",
   "metadata": {},
   "outputs": [],
   "source": [
    "d=np.zeros((5,5))"
   ]
  },
  {
   "cell_type": "code",
   "execution_count": 116,
   "id": "15400368",
   "metadata": {},
   "outputs": [],
   "source": [
    "count=1\n",
    "for i in range(5):\n",
    "    for j in range(5):\n",
    "        d[i,j]=count\n",
    "        count+=1"
   ]
  },
  {
   "cell_type": "code",
   "execution_count": 117,
   "id": "8a815a09",
   "metadata": {},
   "outputs": [
    {
     "data": {
      "text/plain": [
       "array([[ 1.,  2.,  3.,  4.,  5.],\n",
       "       [ 6.,  7.,  8.,  9., 10.],\n",
       "       [11., 12., 13., 14., 15.],\n",
       "       [16., 17., 18., 19., 20.],\n",
       "       [21., 22., 23., 24., 25.]])"
      ]
     },
     "execution_count": 117,
     "metadata": {},
     "output_type": "execute_result"
    }
   ],
   "source": [
    "d"
   ]
  },
  {
   "cell_type": "code",
   "execution_count": null,
   "id": "d25dedf5",
   "metadata": {},
   "outputs": [],
   "source": []
  }
 ],
 "metadata": {
  "kernelspec": {
   "display_name": "Python 3 (ipykernel)",
   "language": "python",
   "name": "python3"
  },
  "language_info": {
   "codemirror_mode": {
    "name": "ipython",
    "version": 3
   },
   "file_extension": ".py",
   "mimetype": "text/x-python",
   "name": "python",
   "nbconvert_exporter": "python",
   "pygments_lexer": "ipython3",
   "version": "3.9.7"
  }
 },
 "nbformat": 4,
 "nbformat_minor": 5
}
